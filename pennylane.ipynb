{
 "cells": [
  {
   "cell_type": "markdown",
   "metadata": {},
   "source": [
    "Notebook for Pennylane stuff and looking at single events"
   ]
  },
  {
   "cell_type": "code",
   "execution_count": null,
   "metadata": {},
   "outputs": [],
   "source": [
    "%load_ext autoreload\n",
    "%autoreload 2\n",
    "\n",
    "from datetime import datetime as dt\n",
    "\n",
    "import matplotlib.pyplot as plt\n",
    "import numpy\n",
    "import pennylane as qml\n",
    "from IPython.display import HTML\n",
    "from matplotlib import rcParams\n",
    "from matplotlib.animation import FuncAnimation\n",
    "from matplotlib.ticker import MultipleLocator, StrMethodFormatter\n",
    "from my_favorite_things import bar_count\n",
    "from pennylane import numpy as qmlnp\n",
    "import numpy as np\n",
    "\n",
    "from scripts.pennylane_algs import QAOA, MAQAOA, XQAOA, FALQON, VarQITE\n",
    "from scripts.events import get_event\n",
    "from scripts.hamiltonians import swap, get_coefficients"
   ]
  },
  {
   "cell_type": "markdown",
   "metadata": {},
   "source": [
    "# Effects of Finite Shots on a Simple, Random Circuit"
   ]
  },
  {
   "cell_type": "code",
   "execution_count": null,
   "metadata": {},
   "outputs": [],
   "source": [
    "# build circuit\n",
    "def qc(thetas):\n",
    "    qml.Hadamard(0)\n",
    "    qml.Hadamard(1)\n",
    "    qml.Hadamard(2)\n",
    "    qml.CNOT([0, 1])\n",
    "    qml.CNOT([1, 2])\n",
    "    qml.RY(thetas[0], 0)\n",
    "    qml.RX(3.2 * thetas[1], 2)\n",
    "    qml.RZ(thetas[2] ** 2, 0)\n",
    "    qml.CRX(thetas[3], [1, 2])\n",
    "    qml.CRZ(thetas[4], [2, 0])\n",
    "    qml.CNOT([0, 1])\n",
    "    qml.Hadamard(0)\n",
    "    qml.Hadamard(1)\n",
    "    qml.Hadamard(2)\n",
    "\n",
    "    return qml.expval(qml.PauliX(0) @ qml.PauliZ(1) @ qml.PauliY(2))\n",
    "\n",
    "\n",
    "# Create circuit qnodes for different amount of shots, None == infinite\n",
    "shot_vals = [50, 100, 1000, 5000, 10000, 50_000, 100_000, 1_000_000, None]\n",
    "devs = [qml.device(\"default.qubit\", wires=3, shots=shots) for shots in shot_vals]\n",
    "qcs = [qml.QNode(qc, dev) for dev in devs]"
   ]
  },
  {
   "cell_type": "code",
   "execution_count": null,
   "metadata": {},
   "outputs": [],
   "source": [
    "qml.draw_mpl(qc)(range(5));"
   ]
  },
  {
   "cell_type": "code",
   "execution_count": null,
   "metadata": {},
   "outputs": [],
   "source": [
    "# Run circuits for 250 steps each\n",
    "steps = 250\n",
    "\n",
    "costss = []\n",
    "for shot_val, qc in zip(shot_vals, qcs):\n",
    "    t0 = dt.now()\n",
    "    opt = qml.AdamOptimizer()\n",
    "    theta = qmlnp.array([0.5] * 5, requires_grad=True)\n",
    "    costs = []\n",
    "    for x in range(steps):\n",
    "        theta, cost = opt.step_and_cost(qc, theta)\n",
    "        costs.append(cost)\n",
    "\n",
    "    t1 = dt.now()\n",
    "    if shot_val is None:\n",
    "        print(f\"{'None':>7} -- {(t1 - t0).total_seconds():.3f}s\")\n",
    "    else:\n",
    "        print(f\"{shot_val:>7} -- {(t1 - t0).total_seconds():.3f}s\")\n",
    "\n",
    "    costss.append(costs)"
   ]
  },
  {
   "cell_type": "code",
   "execution_count": null,
   "metadata": {},
   "outputs": [],
   "source": [
    "# Plot expectation value vs step\n",
    "fig, ax = plt.subplots(figsize=(16, 10))\n",
    "\n",
    "for costs, shot_val in zip(costss, shot_vals):\n",
    "    if shot_val is None:\n",
    "        ax.plot(costs, label=f\"{'infinite':>15}\", c=\"k\")\n",
    "    else:\n",
    "        ax.plot(costs, label=f\"{shot_val:>11,}\")\n",
    "\n",
    "ax.set_xlim(0, len(costs))\n",
    "ax.set_xlabel(\"Shots\")\n",
    "ax.set_ylabel(r\"Cost $\\langle XZY\\rangle$\")\n",
    "ax.legend(title=\"Shots\", title_fontsize=18, fontsize=15)"
   ]
  },
  {
   "cell_type": "markdown",
   "metadata": {},
   "source": [
    "---"
   ]
  },
  {
   "cell_type": "markdown",
   "metadata": {},
   "source": [
    "# Comparing Single Events"
   ]
  },
  {
   "cell_type": "markdown",
   "metadata": {},
   "source": [
    "## Different Algorithms"
   ]
  },
  {
   "cell_type": "code",
   "execution_count": null,
   "metadata": {},
   "outputs": [],
   "source": [
    "evt, Jij, Pij, invm = get_event(low_invm=2.5, hi_invm=3.0, ind=32)\n",
    "norm_Jij = Jij / Jij.max()\n",
    "norm_lmbda = Jij + np.min(Jij) / (2 * np.max(Pij)) * Pij"
   ]
  },
  {
   "cell_type": "code",
   "execution_count": null,
   "metadata": {},
   "outputs": [],
   "source": [
    "# QAOA\n",
    "qaoa = QAOA(norm_Jij, depth=5, steps=1000, optimizer=\"adam\", prec=1e-6)\n",
    "qaoa.optimize(print_it=True)"
   ]
  },
  {
   "cell_type": "code",
   "execution_count": null,
   "metadata": {},
   "outputs": [],
   "source": [
    "# ma-QAOA\n",
    "maqaoa = MAQAOA(norm_Jij, depth=5, steps=1000, optimizer=\"adam\")\n",
    "maqaoa.optimize(print_it=True)"
   ]
  },
  {
   "cell_type": "code",
   "execution_count": null,
   "metadata": {},
   "outputs": [],
   "source": [
    "# XQAOA\n",
    "xqaoa = XQAOA(norm_Jij, depth=5, steps=1000, optimizer=\"adam\", prec=1e-6)\n",
    "xqaoa.optimize(print_it=True)\n"
   ]
  },
  {
   "cell_type": "code",
   "execution_count": null,
   "metadata": {},
   "outputs": [],
   "source": [
    "# FALQON\n",
    "falqon = FALQON(norm_Jij, depth=500)\n",
    "falqon.run(print_it=True)\n"
   ]
  },
  {
   "cell_type": "code",
   "execution_count": null,
   "metadata": {},
   "outputs": [],
   "source": [
    "# VarQITE\n",
    "varqite = VarQITE(norm_Jij, steps=500, prec=1e-5)\n",
    "varqite.optimize()"
   ]
  },
  {
   "cell_type": "code",
   "execution_count": null,
   "metadata": {},
   "outputs": [],
   "source": [
    "algs = [qaoa, maqaoa, xqaoa, varqite]\n",
    "syms = [True, True, False, True]\n",
    "rows = len(algs)\n",
    "correct_bs = \"000111\"\n",
    "\n",
    "fig = plt.figure(figsize=(20, len(algs) * 6))\n",
    "subfigs = fig.subfigures(rows, 1)\n",
    "\n",
    "for row in range(rows):\n",
    "    alg = algs[row]\n",
    "    alg_name = alg.__class__.__name__.lower()\n",
    "    sym = syms[row]\n",
    "    fig = subfigs[row]\n",
    "    axes = fig.subplots(1, 2, gridspec_kw={\"width_ratios\": [25, 11]})\n",
    "\n",
    "    try:\n",
    "        if alg_name == \"varqite\":\n",
    "            probs = alg.get_probs()\n",
    "        else:\n",
    "            probs = alg.get_probs(as_dict=True)\n",
    "    except AttributeError:\n",
    "        tmp = qml.QNode(alg._probs_circuit, alg.device)\n",
    "        probs = tmp(*alg.params)\n",
    "        probs = dict(zip(alg.bit_strs, probs))\n",
    "\n",
    "    probs_plot = probs\n",
    "    if sym:\n",
    "        probs_plot = {\n",
    "            k: v + probs[swap(k)] for k, v in probs.items() if k.startswith(\"0\")\n",
    "        }\n",
    "    bar = bar_count(\n",
    "        ax=axes[0],\n",
    "        counts=probs_plot,\n",
    "        sort_type=\"desc\",\n",
    "        bar_params={\"color\": \"#333355\"},\n",
    "        x_rot=90,\n",
    "    )\n",
    "    red_inds = np.unique(\n",
    "        np.append(\n",
    "            np.where(bar.datavalues == probs_plot[correct_bs]),\n",
    "            np.where(bar.datavalues == probs_plot.get(swap(correct_bs))),\n",
    "        )\n",
    "    )\n",
    "    for ind in red_inds:\n",
    "        bar[ind].set_color(\"r\")\n",
    "\n",
    "    costs = alg.energies if alg_name == \"varqite\" else alg.costs\n",
    "    evals = alg.total_steps if alg_name == \"varqite\" else alg.evals\n",
    "    cost_min, cost_max = costs.min(), costs.max()\n",
    "    axes[1].plot(costs, lw=3, c=\"#333333\")\n",
    "    axes[1].set_ylabel(\"Cost\", fontsize=13)\n",
    "    axes[1].set_xlabel(\"Step\", fontsize=13)\n",
    "    axes[1].set_xlim(1, evals)\n",
    "    axes[1].yaxis.set_minor_locator(MultipleLocator(0.25))\n",
    "    axes[1].yaxis.set_major_locator(MultipleLocator(0.5))\n",
    "    axes[1].yaxis.set_major_formatter(StrMethodFormatter(\"{x:.1f}\"))\n",
    "    axes[1].axhline(cost_min, ls=\"dashed\", c=\"k\", alpha=0.4)\n",
    "    axes[1].annotate(\n",
    "        f\"Minimum = {cost_min:.3f}\",\n",
    "        textcoords=\"axes fraction\",\n",
    "        xy=(0.9 * evals, cost_min),\n",
    "        xytext=(0.5, 0.2),\n",
    "        fontsize=15,\n",
    "        arrowprops=dict(facecolor=\"#666666\", edgecolor=\"#333333\", shrink=0.05, width=2),\n",
    "        bbox=dict(fc=\"lightblue\", ec=\"steelblue\", lw=2, alpha=0.5),\n",
    "    )\n",
    "    axes[1].grid(alpha=0.4)\n",
    "    axes[1].tick_params(top=True, right=True, which=\"both\")\n",
    "    axes[1].set_title(\"Cost function per step\")\n",
    "\n",
    "    fig.suptitle(\n",
    "        f\"{alg.__class__.__name__.replace('_', ' ')}\",\n",
    "        fontsize=22,\n",
    "        x=0.55,\n",
    "        y=0.85,\n",
    "        bbox=dict(fc=\"#a9d3ff\", ec=\"k\", boxstyle=\"round4\"),\n",
    "    )\n",
    "    axes[0].annotate(\n",
    "        f\"$p={alg.depth}$\",\n",
    "        xy=(0.538, 0.73),\n",
    "        fontsize=15,\n",
    "        xycoords=\"subfigure fraction\",\n",
    "        bbox=dict(fc=\"#a9d3ff\", ec=\"k\", boxstyle=\"round4\", alpha=0.5),\n",
    "    )\n"
   ]
  },
  {
   "cell_type": "markdown",
   "metadata": {},
   "source": [
    "# FALQON Probabilities vs Depth"
   ]
  },
  {
   "cell_type": "code",
   "execution_count": null,
   "metadata": {},
   "outputs": [],
   "source": [
    "# Use event run from before\n",
    "anim_probs_plot = []\n",
    "for ind in range(falqon.depth):\n",
    "    probs = falqon.depth_probs[ind]\n",
    "    # Bitstrings are symmetric, so combine\n",
    "    anim_probs_plot.append(\n",
    "        numpy.array([v + probs[swap(k)] for k, v in probs.items() if k.startswith(\"0\")])\n",
    "    )"
   ]
  },
  {
   "cell_type": "code",
   "execution_count": null,
   "metadata": {},
   "outputs": [],
   "source": [
    "fig, ax = plt.subplots(figsize=(16, 10))\n",
    "fig.set_facecolor(\"#d3d4d9\")\n",
    "rcParams[\"animation.embed_limit\"] = 2**34\n",
    "\n",
    "\n",
    "def animate(i):\n",
    "    ax.cla()\n",
    "    fig.suptitle(f\"$\\\\Delta t={falqon.dt}$ | Depth: $p={i}$\", fontsize=24)\n",
    "    ax.set_facecolor(\"#d3d4d9\")\n",
    "    ax.set_ylim(0, np.ceil(100 * anim_probs_plot[-1].max()) / 100)\n",
    "    ax.set_ylabel(\"Probability\", fontsize=20)\n",
    "    ax.tick_params(axis=\"x\", rotation=45, labelsize=15)\n",
    "    ax.tick_params(axis=\"y\", labelsize=18)\n",
    "    sorted_inds = np.argsort(anim_probs_plot[i])\n",
    "    sorted_probs = anim_probs_plot[i][sorted_inds]\n",
    "    sorted_bit_strs = falqon.bit_strs[:32][sorted_inds]\n",
    "    colored_ind = np.where(sorted_bit_strs == \"000111\")[0][0]\n",
    "    bar = ax.bar(sorted_bit_strs, sorted_probs, color=\"#4b88a2\")\n",
    "    bar[colored_ind].set_color(\"#bb0a21\")\n",
    "\n",
    "\n",
    "total = 30  # in seconds\n",
    "anim = FuncAnimation(\n",
    "    fig, animate, frames=falqon.depth, interval=(1000 * total) / falqon.depth\n",
    ")\n",
    "\n",
    "\n",
    "HTML(anim.to_jshtml())\n"
   ]
  },
  {
   "cell_type": "code",
   "execution_count": null,
   "metadata": {},
   "outputs": [],
   "source": [
    "# anim.save(\"test.mp4\")\n"
   ]
  }
 ],
 "metadata": {
  "kernelspec": {
   "display_name": ".venv",
   "language": "python",
   "name": "python3"
  },
  "language_info": {
   "codemirror_mode": {
    "name": "ipython",
    "version": 3
   },
   "file_extension": ".py",
   "mimetype": "text/x-python",
   "name": "python",
   "nbconvert_exporter": "python",
   "pygments_lexer": "ipython3",
   "version": "3.13.0"
  }
 },
 "nbformat": 4,
 "nbformat_minor": 2
}
